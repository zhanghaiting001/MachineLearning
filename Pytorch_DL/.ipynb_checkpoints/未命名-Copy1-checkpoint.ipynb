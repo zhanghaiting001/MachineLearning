{
 "cells": [
  {
   "cell_type": "code",
   "execution_count": 1,
   "metadata": {},
   "outputs": [],
   "source": [
    "import torch\n",
    "from torch import nn\n",
    "import numpy as np"
   ]
  },
  {
   "cell_type": "code",
   "execution_count": 2,
   "metadata": {},
   "outputs": [],
   "source": [
    "num_inputs = 2\n",
    "num_examples = 1000\n",
    "true_w = [2,-3.4]\n",
    "true_b = 4.2\n",
    "features = torch.randn(num_examples,num_inputs)\n",
    "#features = torch.tensor(np.random.normal(0,1,(num_examples,num_inputs)),dtype=torch.float)\n",
    "#features = torch.FloatTensor(np.random.normal(0,1,(num_examples,num_inputs)))\n",
    "labels = true_w[0] * features[:,0]+true_w[1]*features[:,1]+true_b\n",
    "labels += torch.tensor(np.random.normal(0,0.01,size=labels.size()),dtype=torch.float) #噪声的影响，1时也可以得到近似结果\n",
    "#print(features.dtype,labels.dtype)  #都是float32"
   ]
  },
  {
   "cell_type": "code",
   "execution_count": 3,
   "metadata": {},
   "outputs": [],
   "source": [
    "import torch.utils.data as Data\n",
    "batch_size =10\n",
    "dataset = Data.TensorDataset(features,labels)\n",
    "\n",
    "data_iter = Data.DataLoader(dataset=dataset,batch_size=batch_size,shuffle=True,num_workers=2)\n",
    "#print(data_iter)\n",
    "#for X,y in data_iter:\n",
    "#    print(X,'\\n',y)\n",
    "#    break"
   ]
  },
  {
   "cell_type": "code",
   "execution_count": 4,
   "metadata": {},
   "outputs": [
    {
     "name": "stdout",
     "output_type": "stream",
     "text": [
      "LinearNet(\n",
      "  (linear): Linear(in_features=2, out_features=1, bias=True)\n",
      ") Linear(in_features=2, out_features=1, bias=True)\n"
     ]
    }
   ],
   "source": [
    "#定义模型 \n",
    "#写法一\n",
    "class LinearNet(nn.Module):\n",
    "    def __init__(self,n_feature):\n",
    "        super(LinearNet,self).__init__()\n",
    "        self.linear = nn.Linear(n_feature,1)\n",
    "    def forward(self,x):\n",
    "        y = self.linear(x)\n",
    "        return y\n",
    "net = LinearNet(num_inputs)\n",
    "print(net,net.linear)"
   ]
  },
  {
   "cell_type": "code",
   "execution_count": 5,
   "metadata": {},
   "outputs": [
    {
     "name": "stdout",
     "output_type": "stream",
     "text": [
      "Sequential(\n",
      "  (linear): Linear(in_features=2, out_features=1, bias=True)\n",
      ") Linear(in_features=2, out_features=1, bias=True)\n"
     ]
    }
   ],
   "source": [
    "#写法二\n",
    "net2 = nn.Sequential(nn.Linear(num_inputs,1))\n",
    "\n",
    "#写法三\n",
    "net3 = nn.Sequential()\n",
    "net3.add_module('linear',nn.Linear(num_inputs,1))\n",
    "\n",
    "#写法四\n",
    "from collections import OrderedDict\n",
    "net4 = nn.Sequential(OrderedDict([('linear',nn.Linear(num_inputs,1))]))\n",
    "\n",
    "#print(net2,net2[0])\n",
    "#print(net3,net3[0])\n",
    "print(net4,net4[0]) #都一样"
   ]
  },
  {
   "cell_type": "code",
   "execution_count": 6,
   "metadata": {},
   "outputs": [
    {
     "name": "stdout",
     "output_type": "stream",
     "text": [
      "Parameter containing:\n",
      "tensor([[ 0.0777, -0.5741]], requires_grad=True)\n",
      "Parameter containing:\n",
      "tensor([0.3896], requires_grad=True)\n",
      "<generator object Module.parameters at 0x7fe0111f64d0>\n"
     ]
    }
   ],
   "source": [
    "for param in net.parameters():\n",
    "    print(param)\n",
    "print(net.parameters())"
   ]
  },
  {
   "cell_type": "code",
   "execution_count": 7,
   "metadata": {},
   "outputs": [
    {
     "data": {
      "text/plain": [
       "Parameter containing:\n",
       "tensor([0.], requires_grad=True)"
      ]
     },
     "execution_count": 7,
     "metadata": {},
     "output_type": "execute_result"
    }
   ],
   "source": [
    "from torch.nn import init\n",
    "\n",
    "init.normal_(net.linear.weight,mean=0.0,std=0.01)               #normal_改变tensor的函数操作会用一个下划线后缀标示。 \n",
    "# abs_()会在原地计算绝对值 abs会在一个新的tensor中计算\n",
    "init.constant_(net.linear.bias,val=0.0)  #Sequential模型net[0]\n"
   ]
  },
  {
   "cell_type": "code",
   "execution_count": 8,
   "metadata": {},
   "outputs": [
    {
     "name": "stdout",
     "output_type": "stream",
     "text": [
      "SGD (\n",
      "Parameter Group 0\n",
      "    dampening: 0\n",
      "    lr: 0.03\n",
      "    momentum: 0\n",
      "    nesterov: False\n",
      "    weight_decay: 0\n",
      ")\n"
     ]
    }
   ],
   "source": [
    "loss = nn.MSELoss()\n",
    "\n",
    "import torch.optim as optim\n",
    "optimizer = optim.SGD(net.parameters(),lr=0.03)\n",
    "print(optimizer)\n",
    "#optimizer = optim.SGD([{'params':net.subnet1.parameters()},{'params':net.subnet1.parameters(),'lr':0.01}],lr=0.03)\n",
    "#默认为0.03不指定的就为默认的\n",
    "\n",
    "#调整学习率\n",
    "#for param_group in optimizer.param_groups:\n",
    "#    param_group['lr'] *=0.1 #为之前的0.1"
   ]
  },
  {
   "cell_type": "code",
   "execution_count": 9,
   "metadata": {
    "scrolled": true
   },
   "outputs": [
    {
     "name": "stdout",
     "output_type": "stream",
     "text": [
      "epoch 1, loss:0.000135\n",
      "epoch 2, loss:0.000080\n",
      "epoch 3, loss:0.000100\n"
     ]
    }
   ],
   "source": [
    "num_epochs =3\n",
    "for epoch in range(1,num_epochs+1):\n",
    "    for X,y in data_iter:\n",
    "        output = net(X)\n",
    "        l = loss(output,y.view(-1,1))\n",
    "        optimizer.zero_grad() # 梯度清零，等价于net.zero_grad()\n",
    "        l.backward()\n",
    "        optimizer.step()\n",
    "    print('epoch %d, loss:%f' % (epoch,l.item()))"
   ]
  },
  {
   "cell_type": "code",
   "execution_count": 10,
   "metadata": {},
   "outputs": [
    {
     "name": "stdout",
     "output_type": "stream",
     "text": [
      "[2, -3.4] tensor([[ 2.0003, -3.4002]])\n",
      "4.2 tensor([4.2008])\n"
     ]
    }
   ],
   "source": [
    "print(true_w,net.linear.weight.data)\n",
    "print(true_b,net.linear.bias.data)"
   ]
  },
  {
   "cell_type": "code",
   "execution_count": null,
   "metadata": {},
   "outputs": [],
   "source": []
  }
 ],
 "metadata": {
  "kernelspec": {
   "display_name": "Python 3",
   "language": "python",
   "name": "python3"
  },
  "language_info": {
   "codemirror_mode": {
    "name": "ipython",
    "version": 3
   },
   "file_extension": ".py",
   "mimetype": "text/x-python",
   "name": "python",
   "nbconvert_exporter": "python",
   "pygments_lexer": "ipython3",
   "version": "3.7.4"
  }
 },
 "nbformat": 4,
 "nbformat_minor": 2
}
