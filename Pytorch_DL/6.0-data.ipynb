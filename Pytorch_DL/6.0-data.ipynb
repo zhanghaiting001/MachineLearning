{
 "cells": [
  {
   "cell_type": "code",
   "execution_count": 7,
   "metadata": {},
   "outputs": [],
   "source": [
    "import torch\n",
    "import random\n",
    "import zipfile\n",
    "\n",
    "with zipfile.ZipFile('Datasets/jaychou_lyrics.txt.zip') as zin:  \n",
    "    with zin.open('jaychou_lyrics.txt') as f:\n",
    "        corpus_chars = f.read().decode('utf-8')\n",
    "corpus_chars[:40]\n",
    "#有一些任务，可能事先需要设置，事后做清理工作，with提供了一种方便的处理方式  不用处理关句柄，处理读取异常等\n",
    "#f = zin.open('jaychou_lyrics.txt')\n",
    "#f.close() // \n",
    "\n",
    "corpus_chars = corpus_chars.replace('\\n',' ').replace('\\t',' ')\n",
    "#len(corpus_chars) #63282\n",
    "corpus_chars = corpus_chars[0:10000]"
   ]
  },
  {
   "cell_type": "code",
   "execution_count": 20,
   "metadata": {},
   "outputs": [
    {
     "name": "stdout",
     "output_type": "stream",
     "text": [
      "chars: 想要有直升机 想要和你飞到宇宙去 想要和\n",
      "indices: [142, 214, 600, 614, 314, 513, 970, 142, 214, 390, 410, 159, 315, 511, 854, 604, 970, 142, 214, 390]\n"
     ]
    }
   ],
   "source": [
    "idx_to_char = list(set(corpus_chars))\n",
    "char_to_idx = dict((char,i) for i,char in enumerate(idx_to_char))\n",
    "vocab_size = len(char_to_idx) #1027\n",
    "\n",
    "corpus_indices = [char_to_idx[char] for char in corpus_chars]\n",
    "sample = corpus_indices[:20]\n",
    "print('chars:',''.join(idx_to_char[idx] for idx in sample))\n",
    "print('indices:',sample)"
   ]
  },
  {
   "cell_type": "code",
   "execution_count": 40,
   "metadata": {},
   "outputs": [
    {
     "name": "stdout",
     "output_type": "stream",
     "text": [
      "[0, 1, 2, 3, 4]\n",
      "X:  tensor([[ 0.,  1.,  2.,  3.,  4.,  5.],\n",
      "        [12., 13., 14., 15., 16., 17.]]) \n",
      "Y: tensor([[ 1.,  2.,  3.,  4.,  5.,  6.],\n",
      "        [13., 14., 15., 16., 17., 18.]]) \n",
      "\n",
      "X:  tensor([[24., 25., 26., 27., 28., 29.],\n",
      "        [ 6.,  7.,  8.,  9., 10., 11.]]) \n",
      "Y: tensor([[25., 26., 27., 28., 29., 30.],\n",
      "        [ 7.,  8.,  9., 10., 11., 12.]]) \n",
      "\n",
      "tensor([[ 0.,  1.,  2.,  3.,  4.,  5.,  6.,  7.,  8.,  9., 10., 11., 12., 13.,\n",
      "         14.],\n",
      "        [15., 16., 17., 18., 19., 20., 21., 22., 23., 24., 25., 26., 27., 28.,\n",
      "         29.]])\n",
      "X:  tensor([[ 0.,  1.,  2.,  3.],\n",
      "        [15., 16., 17., 18.]]) \n",
      "Y: tensor([[ 1.,  2.,  3.,  4.],\n",
      "        [16., 17., 18., 19.]]) \n",
      "\n",
      "X:  tensor([[ 4.,  5.,  6.,  7.],\n",
      "        [19., 20., 21., 22.]]) \n",
      "Y: tensor([[ 5.,  6.,  7.,  8.],\n",
      "        [20., 21., 22., 23.]]) \n",
      "\n",
      "X:  tensor([[ 8.,  9., 10., 11.],\n",
      "        [23., 24., 25., 26.]]) \n",
      "Y: tensor([[ 9., 10., 11., 12.],\n",
      "        [24., 25., 26., 27.]]) \n",
      "\n"
     ]
    }
   ],
   "source": [
    "def data_iter_random(corpus_indices,batch_size,num_steps,device=None):\n",
    "    num_examples = (len(corpus_indices) - 1)//num_steps\n",
    "    epoch_size = num_examples // batch_size\n",
    "    example_indices = list(range(num_examples))\n",
    "    print(example_indices)\n",
    "    random.shuffle(example_indices)\n",
    "    \n",
    "    if device is None:\n",
    "        device = torch.device('cuda' if torch.cuda.is_available() else 'cpu')\n",
    "        print(device)\n",
    "    \n",
    "    for i in range(epoch_size):\n",
    "        i = i * batch_size\n",
    "        batch_indices = example_indices[i:i+batch_size]\n",
    "        X = [corpus_indices[j*num_steps:j*num_steps + num_steps]  for j in batch_indices]\n",
    "        Y = [corpus_indices[j*num_steps+1:j*num_steps + num_steps+1]  for j in batch_indices]\n",
    "        yield torch.tensor(X,dtype=torch.float32,device=device),torch.tensor(Y,dtype=torch.float32,device=device)\n",
    "my_seq = list(range(31))\n",
    "for X, Y in data_iter_random(my_seq, batch_size=2, num_steps=6,device='cpu'):\n",
    "    print('X: ', X, '\\nY:', Y, '\\n')\n",
    "    \n",
    "\n",
    "def data_iter_consecutive(corpus_indices,batch_size,num_steps,device=None):\n",
    "    if device is None:\n",
    "        device = torch.device('cuda' if torch.cuda.is_available() else 'cpu')\n",
    "        \n",
    "    corpus_indices = torch.tensor(corpus_indices, dtype=torch.float32, device=device)\n",
    "    batch_len = len(corpus_indices)//batch_size\n",
    "    indices = corpus_indices[0:batch_size*batch_len].view(batch_size,batch_len)\n",
    "    print(indices)\n",
    "    epoch_size =(batch_len -1)//num_steps\n",
    "    for i in range(epoch_size):\n",
    "        i = i*num_steps\n",
    "        X = indices[:,i:i+num_steps]  #多维数组切片\n",
    "        Y = indices[:,i+1:i+num_steps+1]\n",
    "        yield X,Y\n",
    "\n",
    "for X, Y in data_iter_consecutive(my_seq, batch_size=2, num_steps=4,device='cpu'):\n",
    "#RuntimeError: CUDA error: all CUDA-capable devices are busy or unavailable \n",
    "#所以暂时先用cpu，重启理论上是可以的，不过过段时间可能还是这样\n",
    "    print('X: ', X, '\\nY:', Y, '\\n')\n"
   ]
  },
  {
   "cell_type": "code",
   "execution_count": null,
   "metadata": {},
   "outputs": [],
   "source": []
  },
  {
   "cell_type": "code",
   "execution_count": null,
   "metadata": {},
   "outputs": [],
   "source": []
  }
 ],
 "metadata": {
  "kernelspec": {
   "display_name": "Python 3",
   "language": "python",
   "name": "python3"
  },
  "language_info": {
   "codemirror_mode": {
    "name": "ipython",
    "version": 3
   },
   "file_extension": ".py",
   "mimetype": "text/x-python",
   "name": "python",
   "nbconvert_exporter": "python",
   "pygments_lexer": "ipython3",
   "version": "3.7.4"
  }
 },
 "nbformat": 4,
 "nbformat_minor": 2
}
