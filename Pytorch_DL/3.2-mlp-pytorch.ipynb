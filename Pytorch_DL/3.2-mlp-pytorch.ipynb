{
 "cells": [
  {
   "cell_type": "code",
   "execution_count": 17,
   "metadata": {},
   "outputs": [],
   "source": [
    "import torch\n",
    "from torch import nn\n",
    "import torchvision\n",
    "import numpy as np\n",
    "\n",
    "batch_size = 256\n",
    "num_workers= 4\n",
    "mnist_train = torchvision.datasets.FashionMNIST(root='Datasets',\n",
    "                                    train = True, download=True, transform=torchvision.transforms.ToTensor())\n",
    "mnist_test = torchvision.datasets.FashionMNIST(root='Datasets',\n",
    "                                    train=False,download=True,transform=torchvision.transforms.ToTensor())\n",
    "\n",
    "train_iter = torch.utils.data.DataLoader(mnist_train,batch_size=batch_size,shuffle=True,num_workers=num_workers)\n",
    "test_iter = torch.utils.data.DataLoader(mnist_test,batch_size=batch_size,shuffle=True,num_workers=num_workers)\n",
    "\n",
    "num_inputs = 784\n",
    "num_hiddens = 256\n",
    "num_outputs = 10\n"
   ]
  },
  {
   "cell_type": "code",
   "execution_count": 18,
   "metadata": {},
   "outputs": [
    {
     "name": "stdout",
     "output_type": "stream",
     "text": [
      "Sequential(\n",
      "  (0): FlattenLayer()\n",
      "  (1): Linear(in_features=784, out_features=256, bias=True)\n",
      "  (2): ReLU()\n",
      "  (3): Linear(in_features=256, out_features=10, bias=True)\n",
      ") <generator object Module.parameters at 0x7f5060120450>\n"
     ]
    }
   ],
   "source": [
    "class FlattenLayer(nn.Module):\n",
    "    def __init_(self):\n",
    "        super(FlattenLayer,self).__init__()\n",
    "    def forward(self,x):\n",
    "        return x.view(x.shape[0],-1)\n",
    "net = nn.Sequential(\n",
    "         FlattenLayer(),\n",
    "         nn.Linear(num_inputs,num_hiddens),\n",
    "         nn.ReLU(),\n",
    "         nn.Linear(num_hiddens,num_outputs))\n",
    "\n",
    "print(net,net.parameters())\n",
    "#for params in net.parameters():\n",
    "#    print(params.size())\n",
    "#    nn.init.normal_(params,mean=0,std=0.01)  #为了演示用，pytorch针对不同类型的layer会有比较合理的不同的初始化方式\n",
    "\n",
    "def evaluate_accuracy(data_iter, net):\n",
    "    acc_sum, n = 0.0, 0\n",
    "    for X, y in data_iter:\n",
    "        acc_sum += (net(X).argmax(dim=1) == y).float().sum().item()\n",
    "        n += y.shape[0]\n",
    "    return acc_sum / n    "
   ]
  },
  {
   "cell_type": "code",
   "execution_count": 19,
   "metadata": {},
   "outputs": [
    {
     "name": "stdout",
     "output_type": "stream",
     "text": [
      "epoch 1, loss 0.0030, train acc 0.720, test acc 0.771\n",
      "epoch 2, loss 0.0018, train acc 0.826, test acc 0.802\n",
      "epoch 3, loss 0.0016, train acc 0.848, test acc 0.771\n",
      "epoch 4, loss 0.0015, train acc 0.859, test acc 0.838\n",
      "epoch 5, loss 0.0014, train acc 0.865, test acc 0.827\n"
     ]
    }
   ],
   "source": [
    "loss = nn.CrossEntropyLoss()\n",
    "optimizer = torch.optim.SGD(net.parameters(),lr=0.5)\n",
    "\n",
    "#optimizer_w = torch.optim.SGD(params=[net.weight], lr=lr, weight_decay=wd)#对权重偏差衰减\n",
    "#optimizer_b = torch.optim.SGD(params=[net.bias], lr=lr) #bias不衰减   3.12加入的 #下面zero_grad和step分别写出\n",
    "\n",
    "num_epochs =5\n",
    "\n",
    "for epoch in range(num_epochs):\n",
    "    train_l_sum,train_acc_sum,n = 0.0,0.0,0\n",
    "    for X,y in train_iter:\n",
    "        y_hat = net(X)\n",
    "        l = loss(y_hat,y).sum()\n",
    "        optimizer.zero_grad()\n",
    "        l.backward()\n",
    "        optimizer.step()\n",
    "        \n",
    "        train_l_sum += l\n",
    "        train_acc_sum +=(y_hat.argmax(dim=1)==y).sum().item()\n",
    "        n +=y.shape[0]\n",
    "    test_acc = evaluate_accuracy(test_iter, net)\n",
    "    print('epoch %d, loss %.4f, train acc %.3f, test acc %.3f'\n",
    "              % (epoch + 1, train_l_sum / n, train_acc_sum / n,test_acc))\n",
    "        "
   ]
  },
  {
   "cell_type": "code",
   "execution_count": null,
   "metadata": {},
   "outputs": [],
   "source": []
  }
 ],
 "metadata": {
  "kernelspec": {
   "display_name": "Python 3",
   "language": "python",
   "name": "python3"
  },
  "language_info": {
   "codemirror_mode": {
    "name": "ipython",
    "version": 3
   },
   "file_extension": ".py",
   "mimetype": "text/x-python",
   "name": "python",
   "nbconvert_exporter": "python",
   "pygments_lexer": "ipython3",
   "version": "3.7.4"
  }
 },
 "nbformat": 4,
 "nbformat_minor": 2
}
