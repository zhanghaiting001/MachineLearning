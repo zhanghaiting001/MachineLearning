{
 "cells": [
  {
   "cell_type": "code",
   "execution_count": 2,
   "metadata": {},
   "outputs": [
    {
     "name": "stdout",
     "output_type": "stream",
     "text": [
      "False\n"
     ]
    }
   ],
   "source": [
    "import torch\n",
    "import time\n",
    "import math\n",
    "import numpy as np\n",
    "import torch.nn.functional as F\n",
    "from torch import nn,optim\n",
    "import zipfile\n",
    "\n",
    "print(torch.cuda.is_available())\n",
    "device = 'cpu'\n",
    "\n",
    "def load_data_jay_lyrics():\n",
    "    with zipfile.ZipFile('Datasets/jaychou_lyrics.txt.zip') as zin:\n",
    "        with zin.open('jaychou_lyrics.txt') as f:\n",
    "            corpus_chars = f.read().decode('utf-8')\n",
    "    corpus_chars = corpus_chars.replace('\\n', ' ').replace('\\r', ' ')\n",
    "    corpus_chars = corpus_chars[0:10000]\n",
    "    idx_to_char = list(set(corpus_chars))\n",
    "    char_to_idx = dict([(char, i) for i, char in enumerate(idx_to_char)])\n",
    "    vocab_size = len(char_to_idx)\n",
    "    corpus_indices = [char_to_idx[char] for char in corpus_chars]\n",
    "    return corpus_indices, char_to_idx, idx_to_char, vocab_size\n",
    "(corpus_indices, char_to_idx, idx_to_char, vocab_size) = load_data_jay_lyrics()\n",
    "\n",
    "def one_hot(x,n_class,dtype=torch.float32):\n",
    "    # x batchsize  output batchsize,vocab_size 一个矩阵，分numsteps处理 vocab_size即n_class\n",
    "    x = x.long()\n",
    "    res = torch.zeros(x.shape[0],n_class,dtype=dtype,device=device)\n",
    "    res.scatter_(1,x.view(-1,1),1)  #最后一个1是填充1，可以改任意整数值，或者矩阵\n",
    "    return res\n",
    "def to_onehot(X,n_class): # for epoch，分批次转化\n",
    "    #X shape (batchsize,numsteps)  output numsteps个 batchsize,vocab_size的矩阵\n",
    "    return [one_hot(X[:,i],n_class) for i in range(X.shape[1])]"
   ]
  },
  {
   "cell_type": "code",
   "execution_count": 3,
   "metadata": {},
   "outputs": [
    {
     "data": {
      "text/plain": [
       "'分开正斜当市晴移市摩摩摩'"
      ]
     },
     "execution_count": 3,
     "metadata": {},
     "output_type": "execute_result"
    }
   ],
   "source": [
    "num_hiddens = 256\n",
    "rnn_layer = nn.RNN(input_size = vocab_size,hidden_size=num_hiddens)\n",
    "#inputs [num_steps,batch_size,vocab_size] outputs [num_steps,batch_size,hiddens]\n",
    "#这里输入不一样，是在RNN输入时有state输入，内部处理了\n",
    "\n",
    "class RNNModel(nn.Module):\n",
    "    def __init__(self,rnn_layer,vocab_size):\n",
    "        super(RNNModel,self).__init__()\n",
    "        self.rnn = rnn_layer\n",
    "        self.hidden_size = rnn_layer.hidden_size * (2 if rnn_layer.bidirectional else 1)\n",
    "        self.vocab_size = vocab_size\n",
    "        self.dense = nn.Linear(self.hidden_size,vocab_size)\n",
    "        self.state = None\n",
    "    def forward(self,inputs,state):# inputs:batch_size,seq_len  \n",
    "        X = to_onehot(inputs,self.vocab_size)  #list numsteps 个batchsize,vocab_size\n",
    "        Y,self.state = self.rnn(torch.stack(X),state)  #输入tensor size  [numsteps,batchsize,vocab_size]\n",
    "        output = self.dense(Y.view(-1,Y.shape[-1]))\n",
    "        # Y [num_steps,batch_size,hiddens] -[num_steps*batch_size,hiddens]\n",
    "        # output [num_steps*batch_size,vocab_size] \n",
    "        return output,self.state\n",
    "\n",
    "def predict_rnn_pytorch(prefix,num_chars,model,vocab_size,device,idx_to_char,char_to_idx):\n",
    "    state = None\n",
    "    output = [char_to_idx[prefix[0]]]\n",
    "    for t in range(num_chars+len(prefix)-1):\n",
    "        X = torch.tensor([output[-1]],device=device).view(1,1)  #只输入一个字，还是字符形式，size [1,1]\n",
    "        if state is not None:\n",
    "            if isinstance(state, tuple): # LSTM, state:(h, c)  \n",
    "                state = (state[0].to(device), state[1].to(device))\n",
    "            else:   \n",
    "                state = state.to(device)\n",
    "        (Y,state) = model(X,state)\n",
    "        if t < len(prefix) - 1:\n",
    "            output.append(char_to_idx[prefix[t + 1]])\n",
    "        else:\n",
    "            output.append(int(Y.argmax(dim=1).item()))\n",
    "    return ''.join([idx_to_char[i] for i in output])\n",
    "\n",
    "model = RNNModel(rnn_layer, vocab_size).to(device)\n",
    "predict_rnn_pytorch('分开', 10, model, vocab_size, device, idx_to_char, char_to_idx)"
   ]
  },
  {
   "cell_type": "code",
   "execution_count": null,
   "metadata": {},
   "outputs": [],
   "source": [
    "#训练过程跟6.1基本一样，暂时不写了"
   ]
  },
  {
   "cell_type": "code",
   "execution_count": null,
   "metadata": {},
   "outputs": [],
   "source": []
  }
 ],
 "metadata": {
  "kernelspec": {
   "display_name": "Python 3",
   "language": "python",
   "name": "python3"
  },
  "language_info": {
   "codemirror_mode": {
    "name": "ipython",
    "version": 3
   },
   "file_extension": ".py",
   "mimetype": "text/x-python",
   "name": "python",
   "nbconvert_exporter": "python",
   "pygments_lexer": "ipython3",
   "version": "3.7.4"
  }
 },
 "nbformat": 4,
 "nbformat_minor": 2
}
