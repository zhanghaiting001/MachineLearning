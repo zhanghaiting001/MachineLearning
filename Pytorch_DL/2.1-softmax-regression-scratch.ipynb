{
 "cells": [
  {
   "cell_type": "code",
   "execution_count": 2,
   "metadata": {},
   "outputs": [],
   "source": [
    "import torch\n",
    "import torchvision\n",
    "import numpy as np\n",
    "import sys"
   ]
  },
  {
   "cell_type": "code",
   "execution_count": 4,
   "metadata": {},
   "outputs": [],
   "source": [
    "batch_size =256\n",
    "train_iter = torchvision.datasets.FashionMNIST(root='./Datasets',\n",
    "               train=True,download=True,transform=torchvision.transforms.ToTensor())\n",
    "test_iter = torchvision.datasets.FashionMNIST(root='./Datasets',\n",
    "               train=False,download=True,transform=torchvision.transforms.ToTensor())"
   ]
  },
  {
   "cell_type": "code",
   "execution_count": 14,
   "metadata": {},
   "outputs": [
    {
     "name": "stdout",
     "output_type": "stream",
     "text": [
      "torch.float32 torch.float32\n"
     ]
    },
    {
     "data": {
      "text/plain": [
       "tensor([0., 0., 0., 0., 0., 0., 0., 0., 0., 0.], requires_grad=True)"
      ]
     },
     "execution_count": 14,
     "metadata": {},
     "output_type": "execute_result"
    }
   ],
   "source": [
    "num_inputs = 784\n",
    "num_outputs = 10\n",
    "\n",
    "w = torch.randn(num_inputs,num_outputs)\n",
    "#w = torch.FloatTensor(np.random.normal(0,1,(num_inputs,num_outputs)))\n",
    "b = torch.zeros(10)\n",
    "print(w.dtype,b.dtype)\n",
    "w.requires_grad_(requires_grad=True)\n",
    "b.requires_grad_(requires_grad=True)"
   ]
  },
  {
   "cell_type": "code",
   "execution_count": 18,
   "metadata": {},
   "outputs": [
    {
     "name": "stdout",
     "output_type": "stream",
     "text": [
      "torch.Size([2, 3])\n",
      "torch.Size([1, 3])\n",
      "torch.Size([2, 1])\n"
     ]
    }
   ],
   "source": [
    "X = torch.tensor([[1,2,3],[4,5,6]])\n",
    "print(X.size())\n",
    "print(X.sum(0,keepdim=True).size())\n",
    "print(X.sum(1,keepdim=True).size())"
   ]
  },
  {
   "cell_type": "code",
   "execution_count": 41,
   "metadata": {},
   "outputs": [
    {
     "name": "stdout",
     "output_type": "stream",
     "text": [
      "torch.Size([2, 5]) torch.Size([2, 1])\n",
      "tensor([[0.1976, 0.1246, 0.2787, 0.1709, 0.2282],\n",
      "        [0.1974, 0.2076, 0.1845, 0.2241, 0.1864]]) tensor([1.0000, 1.0000])\n",
      "tensor(2.)\n"
     ]
    }
   ],
   "source": [
    "def softmax(X):\n",
    "    X_exp = X.exp()  #X还要用，不能在原地计算  原地计算是exp_() \n",
    "    #=赋值在函数结束后不会改变变量值，exp_会彻底改变\n",
    "    partition = X_exp.sum(dim=1,keepdim=True)\n",
    "    print(X_exp.size(),partition.size())\n",
    "    return X_exp/partition   #广播\n",
    "X = torch.rand((2, 5))\n",
    "X_prob = softmax(X)\n",
    "print(X_prob, X_prob.sum(dim=1))\n",
    "print(X_prob.sum())"
   ]
  },
  {
   "cell_type": "code",
   "execution_count": null,
   "metadata": {},
   "outputs": [],
   "source": [
    "def net(X):\n",
    "    return softmax(torch.mm(X.view(-1,num_inputs),w)+b)"
   ]
  }
 ],
 "metadata": {
  "kernelspec": {
   "display_name": "Python 3",
   "language": "python",
   "name": "python3"
  },
  "language_info": {
   "codemirror_mode": {
    "name": "ipython",
    "version": 3
   },
   "file_extension": ".py",
   "mimetype": "text/x-python",
   "name": "python",
   "nbconvert_exporter": "python",
   "pygments_lexer": "ipython3",
   "version": "3.7.4"
  }
 },
 "nbformat": 4,
 "nbformat_minor": 2
}
