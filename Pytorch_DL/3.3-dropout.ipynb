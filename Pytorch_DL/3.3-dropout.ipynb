{
 "cells": [
  {
   "cell_type": "code",
   "execution_count": 10,
   "metadata": {},
   "outputs": [
    {
     "name": "stdout",
     "output_type": "stream",
     "text": [
      "tensor([[-1.6246,  0.3807, -1.4745, -1.4176,  0.5576],\n",
      "        [ 0.2620,  1.7255, -1.4497,  1.4803,  1.0037],\n",
      "        [ 1.5267, -0.0077,  1.5033,  0.2260,  1.8998],\n",
      "        [-0.0943, -1.6950,  0.0094,  1.4723, -0.5528],\n",
      "        [ 0.4358,  0.6700, -0.6334,  0.4667, -1.2318]])\n",
      "tensor([[ 0.,  1.,  2.,  3.,  4.,  5.,  6.,  7.],\n",
      "        [ 8.,  9., 10., 11., 12., 13., 14., 15.]])\n",
      "tensor([[ 0.,  0.,  0.,  6.,  8.,  0., 12.,  0.],\n",
      "        [16., 18., 20.,  0., 24.,  0.,  0.,  0.]])\n",
      "tensor([[0., 0., 0., 0., 0., 0., 0., 0.],\n",
      "        [0., 0., 0., 0., 0., 0., 0., 0.]])\n"
     ]
    }
   ],
   "source": [
    "import torch\n",
    "\n",
    "def dropout(X,drop_prob):\n",
    "    X = X.float()\n",
    "    assert 0<= drop_prob <=1\n",
    "    keep_prob = 1-drop_prob\n",
    "    if keep_prob == 0:\n",
    "        return torch.zeros_like(X)\n",
    "    mask = (torch.rand(X.shape) < keep_prob).float()  #应该是rand,不应该是randn！！！\n",
    "    return mask * X /keep_prob\n",
    "\n",
    "print(torch.randn(5,5))\n",
    "\n",
    "X = torch.arange(16).view(2,8)\n",
    "print(dropout(X,0))\n",
    "print(dropout(X,0.5))\n",
    "print(dropout(X,1))"
   ]
  },
  {
   "cell_type": "code",
   "execution_count": 15,
   "metadata": {},
   "outputs": [
    {
     "data": {
      "text/plain": [
       "('a', 'b')"
      ]
     },
     "execution_count": 15,
     "metadata": {},
     "output_type": "execute_result"
    }
   ],
   "source": [
    "def test(a):\n",
    "    b=2\n",
    "    print(a)\n",
    "test.__code__.co_varnames"
   ]
  },
  {
   "cell_type": "code",
   "execution_count": null,
   "metadata": {},
   "outputs": [],
   "source": []
  }
 ],
 "metadata": {
  "kernelspec": {
   "display_name": "Python 3",
   "language": "python",
   "name": "python3"
  },
  "language_info": {
   "codemirror_mode": {
    "name": "ipython",
    "version": 3
   },
   "file_extension": ".py",
   "mimetype": "text/x-python",
   "name": "python",
   "nbconvert_exporter": "python",
   "pygments_lexer": "ipython3",
   "version": "3.7.4"
  }
 },
 "nbformat": 4,
 "nbformat_minor": 2
}
