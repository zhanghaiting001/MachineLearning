{
 "cells": [
  {
   "cell_type": "code",
   "execution_count": 3,
   "metadata": {},
   "outputs": [],
   "source": [
    "import torch\n",
    "import zipfile\n",
    "import numpy as np\n",
    "\n",
    "device ='cpu'  #cuda 会报错，见6.0\n",
    "\n",
    "\n",
    "def load_data_jay_lyrics():\n",
    "    with zipfile.ZipFile('Datasets/jaychou_lyrics.txt.zip') as zin:\n",
    "        with zin.open('jaychou_lyrics.txt') as f:\n",
    "            corpus_chars = f.read().decode('utf-8')\n",
    "    corpus_chars = corpus_chars.replace('\\n', ' ').replace('\\r', ' ')\n",
    "    corpus_chars = corpus_chars[0:10000]\n",
    "    idx_to_char = list(set(corpus_chars))\n",
    "    char_to_idx = dict([(char, i) for i, char in enumerate(idx_to_char)])\n",
    "    vocab_size = len(char_to_idx)\n",
    "    corpus_indices = [char_to_idx[char] for char in corpus_chars]\n",
    "    return corpus_indices, char_to_idx, idx_to_char, vocab_size\n",
    "(corpus_indices, char_to_idx, idx_to_char, vocab_size) = load_data_jay_lyrics()"
   ]
  },
  {
   "cell_type": "code",
   "execution_count": 4,
   "metadata": {},
   "outputs": [
    {
     "name": "stdout",
     "output_type": "stream",
     "text": [
      "tensor([[1., 0., 0., 0., 0., 0.],\n",
      "        [0., 0., 1., 0., 0., 0.]])\n"
     ]
    }
   ],
   "source": [
    "def one_hot(x,n_class,dtype=torch.float32):\n",
    "    # x batchsize  output batchsize,vocab_size 一个矩阵，分numsteps处理 vocab_size即n_class\n",
    "    x = x.long()\n",
    "    res = torch.zeros(x.shape[0],n_class,dtype=dtype,device=device)\n",
    "    res.scatter_(1,x.view(-1,1),1)  #最后一个1是填充1，可以改任意整数值，或者矩阵\n",
    "    return res\n",
    "\n",
    "#torch.gather(input, dim, index, out=None) → Tensor 聚集操作\n",
    "#torch.Tensor scatter_(dim, index, src) → Tensor 分散操作 \n",
    "\n",
    "x = torch.tensor([0, 2])\n",
    "print(one_hot(x, 6))\n",
    "\n",
    "def to_onehot(X,n_class): # for epoch，分批次转化\n",
    "    #X shape (batchsize,numsteps)  output numsteps个 batchsize,vocab_size的矩阵\n",
    "    return [one_hot(X[:,i],n_class) for i in range(X.shape[1])]\n",
    "\n"
   ]
  },
  {
   "cell_type": "code",
   "execution_count": 5,
   "metadata": {},
   "outputs": [
    {
     "name": "stdout",
     "output_type": "stream",
     "text": [
      "X:  tensor([[12., 13., 14., 15., 16., 17.],\n",
      "        [18., 19., 20., 21., 22., 23.]]) \n",
      "Y: tensor([[13., 14., 15., 16., 17., 18.],\n",
      "        [19., 20., 21., 22., 23., 24.]]) \n",
      "\n",
      "X:  tensor([[ 0.,  1.,  2.,  3.,  4.,  5.],\n",
      "        [ 6.,  7.,  8.,  9., 10., 11.]]) \n",
      "Y: tensor([[ 1.,  2.,  3.,  4.,  5.,  6.],\n",
      "        [ 7.,  8.,  9., 10., 11., 12.]]) \n",
      "\n"
     ]
    }
   ],
   "source": [
    "import random\n",
    "def data_iter_random(corpus_indices,batch_size,num_steps,device=None):\n",
    "    num_examples = (len(corpus_indices) - 1)//num_steps\n",
    "    epoch_size = num_examples // batch_size\n",
    "    example_indices = list(range(num_examples))\n",
    "    #print(example_indices)\n",
    "    random.shuffle(example_indices)\n",
    "    \n",
    "    if device is None:\n",
    "        device = torch.device('cuda' if torch.cuda.is_available() else 'cpu')\n",
    "        print(device)\n",
    "    \n",
    "    for i in range(epoch_size):\n",
    "        i = i * batch_size\n",
    "        batch_indices = example_indices[i:i+batch_size]\n",
    "        X = [corpus_indices[j*num_steps:j*num_steps + num_steps]  for j in batch_indices]\n",
    "        Y = [corpus_indices[j*num_steps+1:j*num_steps + num_steps+1]  for j in batch_indices]\n",
    "        yield torch.tensor(X,dtype=torch.float32,device=device),torch.tensor(Y,dtype=torch.float32,device=device)\n",
    "my_seq = list(range(31))\n",
    "for X, Y in data_iter_random(my_seq, batch_size=2, num_steps=6,device='cpu'):\n",
    "    print('X: ', X, '\\nY:', Y, '\\n')\n",
    "    \n",
    "\n",
    "def data_iter_consecutive(corpus_indices,batch_size,num_steps,device=None):\n",
    "    if device is None:\n",
    "        device = torch.device('cuda' if torch.cuda.is_available() else 'cpu')\n",
    "        \n",
    "    corpus_indices = torch.tensor(corpus_indices, dtype=torch.float32, device=device)\n",
    "    batch_len = len(corpus_indices)//batch_size\n",
    "    indices = corpus_indices[0:batch_size*batch_len].view(batch_size,batch_len)\n",
    "    #print(indices)\n",
    "    epoch_size =(batch_len -1)//num_steps\n",
    "    for i in range(epoch_size):\n",
    "        i = i*num_steps\n",
    "        X = indices[:,i:i+num_steps]  #多维数组切片\n",
    "        Y = indices[:,i+1:i+num_steps+1]\n",
    "        yield X,Y"
   ]
  },
  {
   "cell_type": "code",
   "execution_count": 6,
   "metadata": {},
   "outputs": [],
   "source": [
    "num_inputs,num_hiddens,num_outputs = vocab_size,256,vocab_size\n",
    "\n",
    "def get_params():\n",
    "    def _one(shape):\n",
    "        ts = torch.tensor(np.random.normal(0,0.01,size=shape),device = device,dtype=torch.float32)\n",
    "        return torch.nn.Parameter(ts,requires_grad=True)\n",
    "     # 隐藏层参数\n",
    "    W_xh = _one((num_inputs, num_hiddens))\n",
    "    W_hh = _one((num_hiddens, num_hiddens))\n",
    "    b_h = torch.nn.Parameter(torch.zeros(num_hiddens, device=device, requires_grad=True))\n",
    "    # 输出层参数\n",
    "    W_hq = _one((num_hiddens, num_outputs))\n",
    "    b_q = torch.nn.Parameter(torch.zeros(num_outputs, device=device, requires_grad=True))\n",
    "    return torch.nn.ParameterList([W_xh, W_hh, b_h, W_hq, b_q])\n",
    "params = get_params()"
   ]
  },
  {
   "cell_type": "code",
   "execution_count": 7,
   "metadata": {},
   "outputs": [
    {
     "data": {
      "text/plain": [
       "'分开家绕宠女若酒养方愿潮'"
      ]
     },
     "execution_count": 7,
     "metadata": {},
     "output_type": "execute_result"
    }
   ],
   "source": [
    "def init_rnn_state(batch_size,num_hiddens,device):\n",
    "    return (torch.zeros(batch_size,num_hiddens,device=device),) #元组，其实可以不用，示例在多个元素的事后如何处理\n",
    "\n",
    "def rnn(inputs,state,params):\n",
    "    W_xh, W_hh, b_h, W_hq, b_q = params\n",
    "    H, = state\n",
    "    outputs = []\n",
    "    for X in inputs:\n",
    "        H = torch.tanh(torch.matmul(X,W_xh)+torch.matmul(H,W_hh)+b_h)\n",
    "        Y = torch.matmul(H,W_hq)+b_q\n",
    "        outputs.append(Y)\n",
    "    return outputs,(H,)\n",
    "\n",
    "def predict_rnn(prefix,num_chars,rnn,params,init_rnn_state,\n",
    "                num_hiddens,vocab_size,device,idx_to_char,char_to_idx):\n",
    "    state = init_rnn_state(1,num_hiddens,device)\n",
    "    output = [char_to_idx[prefix[0]]]\n",
    "    for t in range(num_chars+len(prefix)-1):\n",
    "        X = to_onehot(torch.tensor([[output[-1]]],device=device),vocab_size)\n",
    "        (Y,state) = rnn(X,state,params)\n",
    "        if t<len(prefix)-1:\n",
    "            output.append(char_to_idx[prefix[t+1]])\n",
    "        else:\n",
    "            output.append(int(Y[0].argmax(dim=1).item()))\n",
    "    return ''.join( idx_to_char[i] for i in output)\n",
    "\n",
    "predict_rnn('分开',10,rnn,params,init_rnn_state,num_hiddens,vocab_size,device,idx_to_char,char_to_idx)"
   ]
  },
  {
   "cell_type": "code",
   "execution_count": 12,
   "metadata": {},
   "outputs": [],
   "source": [
    "#使用困惑度，perplexity评价语言模型的好坏，困惑度是对交叉熵损失函数做指数运算后得到的值\n",
    "import math\n",
    "import time\n",
    "#import data1  # ipynb文件，无法当模块导入\n",
    "def grad_clipping(params,theta,device):  #防止梯度爆炸\n",
    "    norm = torch.tensor([0.0],device=device)\n",
    "    for param in params:\n",
    "        norm += (param.grad.data ** 2).sum()  #裁剪的是梯度值\n",
    "    norm = norm.sqrt().item()\n",
    "    if norm > theta:\n",
    "        for param in params:\n",
    "            param.grad.data *=(theta/norm)\n",
    "            \n",
    "def sgd(params,lr,batch_size):  #更新的时候为什么 除以256？？？\n",
    "    for param in params:\n",
    "        param.data-=param.grad*lr/batch_size\n",
    "            \n",
    "def train_and_predict_rnn(rnn,get_params,init_rnn_state,num_hiddens,vocab_size,device,corpus_indices,\n",
    "                          idx_to_char,char_to_idx,is_random_iter,num_epochs,num_steps,lr,clipping_theta,\n",
    "                          batch_size,pred_period,pred_len,prefixes):\n",
    "    if is_random_iter:\n",
    "        data_iter_fn = data_iter_random\n",
    "    else:\n",
    "        data_iter_fn = data_iter_consecutive\n",
    "    params = get_params()\n",
    "    loss = torch.nn.CrossEntropyLoss()\n",
    "    \n",
    "    for epoch in range(num_epochs):\n",
    "        if not is_random_iter: #如使用相邻采样，一次循环初始化一次状态\n",
    "            state = init_rnn_state(batch_size, num_hiddens, device)\n",
    "        l_sum,n,start = 0.0,0,time.time()\n",
    "        data_iter = data_iter_fn(corpus_indices,batch_size,num_steps,device)\n",
    "        for X,Y in data_iter: #X \n",
    "            if is_random_iter:  # 如使用随机采样，在每个小批量更新前初始化隐藏状态\n",
    "                state = init_rnn_state(batch_size, num_hiddens, device)\n",
    "            else:  \n",
    "            # 否则需要使用detach函数从计算图分离隐藏状态, 这是为了\n",
    "            # 使模型参数的梯度计算只依赖一次迭代读取的小批量序列(防止梯度计算开销太大)\n",
    "                for s in state:\n",
    "                    s.detach_()\n",
    "            \n",
    "            inputs = to_onehot(X,vocab_size)\n",
    "            (outputs,state) = rnn(inputs,state,params) #inputs numsteps个 batchsize,vocab_size的矩阵 \n",
    "            outputs = torch.cat(outputs, dim=0)\n",
    "            y = torch.transpose(Y, 0, 1).contiguous().view(-1)\n",
    "            l = loss(outputs, y.long())\n",
    "            \n",
    "            if params[0].grad is not None:\n",
    "                for param in params:\n",
    "                    param.grad.data.zero_()\n",
    "            l.backward()\n",
    "            grad_clipping(params, clipping_theta, device)  # 裁剪梯度 \n",
    "            #不裁剪梯度，困惑度超出范围  按交叉熵计算的话，也能得到结果\n",
    "            sgd(params, lr, 1)\n",
    "            l_sum += l.item() * y.shape[0]\n",
    "            n += y.shape[0]\n",
    "        if (epoch + 1) % pred_period == 0:\n",
    "            print('epoch %d, perplexity %f, time %.2f sec' % (  #perplexity exp(l_sum/n)\n",
    "                epoch + 1, (l_sum / n), time.time() - start))\n",
    "            for prefix in prefixes:\n",
    "                print(' -', predict_rnn(prefix, pred_len, rnn, params, init_rnn_state,\n",
    "                    num_hiddens, vocab_size, device, idx_to_char, char_to_idx))"
   ]
  },
  {
   "cell_type": "code",
   "execution_count": 11,
   "metadata": {},
   "outputs": [
    {
     "name": "stdout",
     "output_type": "stream",
     "text": [
      "epoch 50, perplexity 4.282180, time 0.38 sec\n",
      " - 分开 我想要的可写女人 坏成的让我疯狂的可爱女人 坏坏的让我疯狂的可爱女人 坏坏的让我疯狂的可爱女人 坏\n",
      " - 不分开 快使在美 我已定的可爱女人 坏坏的让我疯狂的可爱女人 坏坏的让我疯狂的可爱女人 坏坏的让我疯狂的可\n",
      "epoch 100, perplexity 2.262808, time 0.38 sec\n",
      " - 分开 一颗用双截 我只往有抽瘦 太色入秋的牛肉 我说店小二 三两银够不够 景色入秋的牛肉 我说店小二 三\n",
      " - 不分开吗 我有好这生瘦 我知我有你 是你都红鸦球 一场正 一直走著我在天 一壶就酒濡汉我 想要你的黑色默默\n",
      "epoch 150, perplexity 1.038553, time 0.41 sec\n",
      " - 分开 一颗两颗三颗四颗 连成线背著背默默许下心  我的世界已狂的封斑 一切内明演 会不人开 在小村外的溪\n",
      " - 不分开期 我不能再想 我不 我不 我不要再想你 不知不觉 你已经离开我 不知不觉 我已经这节奏 后知后觉 \n",
      "epoch 200, perplexity 0.466650, time 0.37 sec\n",
      " - 分开 有一人美昏 大静躺在抽屉 它所拥有见只离做 我想大声宣布 对你依依不舍 连隔都邻居都猜轻叹息 太多\n",
      " - 不分开扫 我叫你爸 你打我妈 这样对吗干嘛这样 何必让 牵泪眼 看么吐纳手心在 干什么 干什么 气吸丹田手\n",
      "epoch 250, perplexity 0.260281, time 0.33 sec\n",
      " - 分开 沙愿到不多 有唱都红说喝水也能活 脑袋瓜有一点秀逗 猎物死了它比谁都难过 印地安斑鸠 会学人开口 \n",
      " - 不分开扫 我叫你爸 你打我妈 这样对吗干嘛这样 何必让酒牵鼻子走 瞎 说底睡写斯 周杰伦哭 泥家村外的溪边\n"
     ]
    }
   ],
   "source": [
    "num_epochs, num_steps, batch_size, lr, clipping_theta = 250, 35, 32, 1e2, 1e-2\n",
    "pred_period, pred_len, prefixes = 50, 50, ['分开', '不分开']\n",
    "train_and_predict_rnn(rnn, get_params, init_rnn_state, num_hiddens,\n",
    "                      vocab_size, device, corpus_indices, idx_to_char,\n",
    "                      char_to_idx, True, num_epochs, num_steps, lr,\n",
    "                      clipping_theta, batch_size, pred_period, pred_len,\n",
    "                      prefixes)"
   ]
  },
  {
   "cell_type": "code",
   "execution_count": 8,
   "metadata": {},
   "outputs": [
    {
     "name": "stdout",
     "output_type": "stream",
     "text": [
      "epoch 50, perplexity 61.895668, time 0.32 sec\n",
      " - 分开 我想要的可写 我有要这 我有了的可写 我有要这 我想了的可爱 我有要这 我想了的可爱 我有要这 我\n",
      " - 不分开 我想要的可爱 我有要这 我有了的可写 我有要这 我想了的可爱 我有要这 我想了的可爱 我有要这 我\n",
      "epoch 100, perplexity 7.543522, time 0.32 sec\n",
      " - 分开 一子我 别怪我 说你怎么 对头一碗热  没有你在我有多烦熬多难熬  穿过云层 我试多努恼  没有你\n",
      " - 不分开只 你已经很你我 不知不觉 我已了这节奏 后知后觉 又过了一个秋 哼知不觉 快使用双截棍 哼哼哈兮 \n",
      "epoch 150, perplexity 2.150913, time 0.32 sec\n",
      " - 分开 每候的美我面起 从发现迷的路土 不会骑河柳的胖女  穿在我遇坦堡你的家不有 一个苏美年圈出土 我以\n",
      " - 不分开觉 你已经离开我 不知不觉 我跟了这节奏 后知后觉 又过了一个秋 后知后觉 我该好好生活 我该好好生\n",
      "epoch 200, perplexity 1.349285, time 0.32 sec\n",
      " - 分开 你说啊 你怎了话阳光 不管人哪里都 它在许愿安里 平呆了我 说你说 分数怎么停留 一直在停留 谁让\n",
      " - 不分开觉 你已经离开我 不知不觉 我跟了这节奏 后知后觉 又过了一个秋 后知后觉 我该好好生活 我该好好生\n",
      "epoch 250, perplexity 1.155451, time 0.38 sec\n",
      " - 分开 你说啊 你怎载著阳手 不管到哪医都是说天 蝴蝶自在飞 花也布满天 一朵一朵因你而香 试图让夕阳飞翔\n",
      " - 不分开觉 你已经离开我 不知不觉 我跟了这节奏 后知后觉 后知后觉 迷迷蒙蒙 你我的懂 疗了梦纵 隐隐作用\n"
     ]
    }
   ],
   "source": [
    "train_and_predict_rnn(rnn, get_params, init_rnn_state, num_hiddens,\n",
    "                      vocab_size, device, corpus_indices, idx_to_char,\n",
    "                      char_to_idx, False, num_epochs, num_steps, lr,\n",
    "                      clipping_theta, batch_size, pred_period, pred_len,\n",
    "                      prefixes)"
   ]
  },
  {
   "cell_type": "code",
   "execution_count": null,
   "metadata": {},
   "outputs": [],
   "source": []
  }
 ],
 "metadata": {
  "kernelspec": {
   "display_name": "Python 3",
   "language": "python",
   "name": "python3"
  },
  "language_info": {
   "codemirror_mode": {
    "name": "ipython",
    "version": 3
   },
   "file_extension": ".py",
   "mimetype": "text/x-python",
   "name": "python",
   "nbconvert_exporter": "python",
   "pygments_lexer": "ipython3",
   "version": "3.7.4"
  }
 },
 "nbformat": 4,
 "nbformat_minor": 2
}
