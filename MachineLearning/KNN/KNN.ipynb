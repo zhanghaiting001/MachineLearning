{
 "cells": [
  {
   "cell_type": "code",
   "execution_count": 1,
   "metadata": {},
   "outputs": [
    {
     "name": "stdout",
     "output_type": "stream",
     "text": [
      "(1934, 1024) (1934,)\n",
      "(946, 1024) (946,)\n"
     ]
    }
   ],
   "source": [
    "import numpy as np\n",
    "import os\n",
    "train_path = '/home/zht/Documents/coding/MachineLearning/data/digits/trainingDigits/'\n",
    "test_path = '/home/zht/Documents/coding/MachineLearning/data/digits/testDigits/'\n",
    "\n",
    "\n",
    "def getdata(path):\n",
    "    files = os.listdir(path)\n",
    "    n = len(files)\n",
    "    data=np.zeros((n,1024))\n",
    "    target=np.zeros(n,dtype=np.int)\n",
    "    for i in range(n):\n",
    "        target[i]=int(files[i][0])\n",
    "        data[i] = img2vec(path+files[i])\n",
    "    return data,target\n",
    "        \n",
    "\n",
    "def img2vec(filename):\n",
    "    fr = open(filename)\n",
    "    returnVec =np.zeros(1024) #shape (1024,)\n",
    "    for i in range(32):\n",
    "        lineStr = fr.readline()\n",
    "        for j in range(32):\n",
    "            returnVec[i*32+j]=int(lineStr[j])\n",
    "    return returnVec\n",
    "#lineStr = np.atleast_1d(fr.readline())  #读入是一整个字符串，需要一个个转换为int 所以直接读入array不靠谱\n",
    "\n",
    "train_data,train_target = getdata(train_path)\n",
    "test_data,test_target = getdata(test_path)\n",
    "n = train_data.shape[0]\n",
    "#print(train_target.dtype)\n",
    "test_n = test_data.shape[0]\n",
    "print(train_data.shape,train_target.shape)\n",
    "print(test_data.shape,test_target.shape)"
   ]
  },
  {
   "cell_type": "code",
   "execution_count": 57,
   "metadata": {},
   "outputs": [
    {
     "name": "stdout",
     "output_type": "stream",
     "text": [
      "The corret number is 928,and the percentage is 0.980973\n",
      "[ 11  90 133 242 260 284 416 447 455 543 570 592 651 709 721 813 909 934]\n",
      "the number is 8,the result is 1\n",
      "the number is 8,the result is 1\n",
      "the number is 8,the result is 3\n",
      "the number is 8,the result is 1\n",
      "the number is 9,the result is 7\n",
      "the number is 8,the result is 1\n",
      "the number is 8,the result is 6\n",
      "the number is 5,the result is 3\n",
      "the number is 3,the result is 9\n",
      "the number is 3,the result is 8\n",
      "the number is 8,the result is 1\n",
      "the number is 5,the result is 9\n",
      "the number is 9,the result is 3\n",
      "the number is 9,the result is 5\n",
      "the number is 1,the result is 7\n",
      "the number is 4,the result is 0\n",
      "the number is 8,the result is 3\n",
      "the number is 9,the result is 1\n"
     ]
    }
   ],
   "source": [
    "def KNN(data,k=5): #data (1024,)\n",
    "    dis=np.zeros(n)  #dist  target\n",
    "    for i in range(n):\n",
    "        dis[i] = np.linalg.norm(data-train_data[i])  # np.sqrt(np.sum(np.square(vec))) 元素平方和 开根号\n",
    "    index = np.argpartition(dis,k)[:5]  #argpartition！！！\n",
    "    k_label =  train_target[index]\n",
    "    #print(k_label.dtype)\n",
    "    label = np.argmax(np.bincount(k_label))   #bincount需要为int类型\n",
    "    # list 类型的话，可以用max(set(label),key=label.count)\n",
    "    return label\n",
    "result = np.zeros(test_n,dtype=np.int)\n",
    "for i in range(test_n):\n",
    "    result[i] = KNN(test_data[i])\n",
    "corret_n = np.sum(result==test_target)\n",
    "print(\"The corret number is %d,and the percentage is %f\"%(corret_n,corret_n/test_n))\n",
    "index = np.where(result!=test_target)  #返回turple（array([11,90,...]),） 所以index[0]是第一个\n",
    "print(index[0])\n",
    "for i in range(len(index[0])):\n",
    "    temp = index[0][i]\n",
    "    print(\"the number is %d,the result is %d\"%(test_target[temp],result[temp]))"
   ]
  },
  {
   "cell_type": "code",
   "execution_count": null,
   "metadata": {},
   "outputs": [],
   "source": []
  },
  {
   "cell_type": "code",
   "execution_count": null,
   "metadata": {},
   "outputs": [],
   "source": []
  },
  {
   "cell_type": "code",
   "execution_count": null,
   "metadata": {},
   "outputs": [],
   "source": []
  }
 ],
 "metadata": {
  "kernelspec": {
   "display_name": "Python 3",
   "language": "python",
   "name": "python3"
  },
  "language_info": {
   "codemirror_mode": {
    "name": "ipython",
    "version": 3
   },
   "file_extension": ".py",
   "mimetype": "text/x-python",
   "name": "python",
   "nbconvert_exporter": "python",
   "pygments_lexer": "ipython3",
   "version": "3.7.3"
  }
 },
 "nbformat": 4,
 "nbformat_minor": 2
}
